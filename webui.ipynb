{
  "cells": [
    {
      "cell_type": "markdown",
      "metadata": {
        "id": "view-in-github"
      },
      "source": [
        "[![Open In Colab](https://colab.research.google.com/assets/colab-badge.svg)](https://colab.research.google.com/github/liuguangw/webui_colab/blob/master/webui.ipynb)"
      ]
    },
    {
      "cell_type": "code",
      "execution_count": null,
      "metadata": {
        "cellView": "form",
        "id": "U9V4xOBHh8Nn"
      },
      "outputs": [],
      "source": [
        "# @title 1.安装Linux基本环境\n",
        "!apt -y update\n",
        "!wget http://launchpadlibrarian.net/367274644/libgoogle-perftools-dev_2.5-2.2ubuntu3_amd64.deb\n",
        "!wget https://launchpad.net/ubuntu/+source/google-perftools/2.5-2.2ubuntu3/+build/14795286/+files/google-perftools_2.5-2.2ubuntu3_all.deb\n",
        "!wget https://launchpad.net/ubuntu/+source/google-perftools/2.5-2.2ubuntu3/+build/14795286/+files/libtcmalloc-minimal4_2.5-2.2ubuntu3_amd64.deb\n",
        "!wget https://launchpad.net/ubuntu/+source/google-perftools/2.5-2.2ubuntu3/+build/14795286/+files/libgoogle-perftools4_2.5-2.2ubuntu3_amd64.deb\n",
        "!apt install libunwind8-dev\n",
        "!dpkg -i *.deb\n",
        "%env LD_PRELOAD=libtcmalloc.so\n",
        "!rm *.deb\n",
        "\n",
        "%pip install torch==1.13.1+cu116 torchvision==0.14.1+cu116 torchaudio==0.13.1 --extra-index-url https://download.pytorch.org/whl/cu116 -U\n",
        "!apt -y install aria2\n",
        "%pip install xformers==0.0.16\n",
        "%pip install triton==2.0.0\n"
      ]
    },
    {
      "cell_type": "code",
      "execution_count": null,
      "metadata": {
        "cellView": "form",
        "id": "ceyogD3KOTMS"
      },
      "outputs": [],
      "source": [
        "# @title 2.挂载云端硬盘\n",
        "\n",
        "# @markdown 需要授予权限\n",
        "\n",
        "# @markdown `models`和`outputs`目录的文件会保存到云端硬盘,\n",
        "# @markdown `settings` 目录保存配置文件\n",
        "\n",
        "%cd /content\n",
        "\n",
        "repository_path = \"/content/stable-diffusion-webui\"\n",
        "!rm -rf {repository_path}\n",
        "repository_url = \"https://github.com/AUTOMATIC1111/stable-diffusion-webui\"  # @param {type: \"string\"}\n",
        "webui_hash = \"22bcc7be428c94e9408f589966c2040187245d81\"  # @param {type: \"string\"}\n",
        "!git clone {repository_url}\n",
        "%cd {repository_path}\n",
        "!git checkout {webui_hash}\n",
        "\n",
        "# @markdown 云端文件夹目录\n",
        "data_dir_name = \"sd_webui_colab\"  # @param {type:\"string\"}\n",
        "data_dir = f\"/content/drive/MyDrive/{data_dir_name}\"\n",
        "\n",
        "import os\n",
        "\n",
        "drive_path = \"/content/drive\"\n",
        "from google.colab import drive\n",
        "\n",
        "try:\n",
        "    drive.mount(drive_path, force_remount=True)\n",
        "    os.makedirs(data_dir, exist_ok=True)\n",
        "except:\n",
        "    print('Mount Error')\n",
        "    raise\n",
        "\n",
        "models_path = f\"{data_dir}/models\"\n",
        "outputs_path = f\"{data_dir}/outputs\"\n",
        "settings_path = f\"{data_dir}/settings\"\n",
        "\n",
        "\n",
        "if not os.path.exists(models_path):\n",
        "  !cp -r {repository_path}/models {data_dir}/\n",
        "\n",
        "if not os.path.exists(outputs_path):\n",
        "  !mkdir -p {outputs_path}\n",
        "\n",
        "if not os.path.exists(settings_path):\n",
        "  !mkdir -p {settings_path}\n",
        "\n",
        "!rm -rf {repository_path}/models\n",
        "!rm -rf {repository_path}/outputs\n",
        "!ln -s {models_path} {repository_path}/\n",
        "!ln -s {outputs_path} {repository_path}/\n",
        "\n",
        "#配置文件路径定义\n",
        "os.environ['STYLES_FILE'] = f\"{settings_path}/styles.csv\"\n",
        "os.environ['UI_CONFIG_FILE'] = f\"{settings_path}/ui-config.json\"\n",
        "os.environ['UI_SETTINGS_FILE'] = f\"{settings_path}/config.json\"\n",
        "\n",
        "!rm -rf {repository_path}/venv"
      ]
    },
    {
      "cell_type": "code",
      "execution_count": null,
      "metadata": {
        "cellView": "form",
        "id": "-L9DFKyRqa_K"
      },
      "outputs": [],
      "source": [
        "# @title 3.安装扩展(可选操作)\n",
        "# @markdown 可选操作\n",
        "%cd {repository_path}/extensions\n",
        "!git clone https://github.com/DominikDoom/a1111-sd-webui-tagcomplete.git\n",
        "!git clone https://github.com/VinsonLaro/stable-diffusion-webui-chinese.git\n",
        "!git clone https://github.com/AlUlkesh/stable-diffusion-webui-images-browser.git\n",
        "!git clone https://github.com/butaixianran/Stable-Diffusion-Webui-Civitai-Helper.git"
      ]
    },
    {
      "cell_type": "code",
      "execution_count": null,
      "metadata": {
        "cellView": "form",
        "id": "j0Y3Op5pVWVk"
      },
      "outputs": [],
      "source": [
        "# @title 4.启动webui\n",
        "import os\n",
        "%cd {repository_path}\n",
        "#! ls -al {data_dir}/models\n",
        "# @markdown 启动参数\n",
        "up_args = \"--xformers --enable-insecure-extension-access --share\" # @param {type:\"string\"}\n",
        "\n",
        "# @markdown 主题\n",
        "darkMode = True # @param {type:\"boolean\"}\n",
        "if darkMode:\n",
        "  up_args = f\"{up_args} --theme dark\"\n",
        "\n",
        "\n",
        "# @markdown 是否使用ngrok\n",
        "ngrok = False # @param {type:\"boolean\"}\n",
        "ngrok_token = \"\" # @param {type:\"string\"}\n",
        "\n",
        "if ngrok:\n",
        "  up_args = f\"{up_args} --ngrok {ngrok_token}\"\n",
        "\n",
        "up_args = f\"{up_args} --ui-settings-file {settings_path}/config.json\"\n",
        "up_args = f\"{up_args} --ui-config-file {settings_path}/ui-config.json\"\n",
        "up_args = f\"{up_args} --styles-file {settings_path}/styles.csv\"\n",
        "\n",
        "!python launch.py {up_args}"
      ]
    }
  ],
  "metadata": {
    "accelerator": "GPU",
    "colab": {
      "provenance": []
    },
    "gpuClass": "standard",
    "kernelspec": {
      "display_name": "Python 3",
      "language": "python",
      "name": "python3"
    },
    "language_info": {
      "name": "python",
      "version": "3.10.10"
    },
    "vscode": {
      "interpreter": {
        "hash": "e8d1ec50fd7cdf00e23e95138235c186cd194dab816568c511b1f672e5e9780d"
      }
    }
  },
  "nbformat": 4,
  "nbformat_minor": 0
}
